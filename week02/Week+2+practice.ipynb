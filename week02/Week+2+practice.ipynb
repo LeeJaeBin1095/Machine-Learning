{
 "cells": [
  {
   "cell_type": "markdown",
   "metadata": {},
   "source": [
    "### 실습 1. Python"
   ]
  },
  {
   "cell_type": "markdown",
   "metadata": {},
   "source": [
    "하나는 초등학교에 입학하고 영어를 배웠습니다\n",
    "\n",
    "배운 영어를 사용하여 단어들을 썼는데, 문득 다른 방법으로 읽고 싶어졌습니다\n",
    "\n",
    "그래서 가로로 읽는 것이 아니라 세로로 읽어보려고 합니다.\n",
    "\n",
    "파이썬을 사용하여, 아래 순서에 따라 하나가 읽는 알파벳을 순서대로 작성되게 해주세요\n",
    "\n",
    "1. 첫 입력으로써, 하나가 쓴 단어가 몇 개 존재하는지 저장한다\n",
    "\n",
    "2. 첫 입력때 받은 수만큼 입력을 받아 단어들을 각각 저장한다\n",
    "\n",
    "3. 각각 저장된 단어 빠른 순서를 먼저 입력된 단어부터 출력되게 만든다\n",
    "\n",
    "아래는 입력과 출력의 예시입니다"
   ]
  },
  {
   "cell_type": "markdown",
   "metadata": {},
   "source": [
    "입력 예시 )\n",
    "![Vua](https://i.imgur.com/GR2YsBV.png)"
   ]
  },
  {
   "cell_type": "markdown",
   "metadata": {},
   "source": [
    "출력 예시 )\n",
    "![Vae](https://i.imgur.com/3F7uZJ5.png)"
   ]
  },
  {
   "cell_type": "markdown",
   "metadata": {},
   "source": [
    "Python에서 사용자 입력 함수는 input으로 사용가능합니다\n",
    "\n",
    "이하 셀에 입력과 출력이 예시와 같이 이뤄지도록 작성해주세요"
   ]
  },
  {
   "cell_type": "code",
   "execution_count": null,
   "metadata": {},
   "outputs": [],
   "source": []
  },
  {
   "cell_type": "markdown",
   "metadata": {},
   "source": [
    "### 실습 2. Numpy"
   ]
  },
  {
   "cell_type": "code",
   "execution_count": 28,
   "metadata": {},
   "outputs": [],
   "source": [
    "import numpy as np\n",
    "\n",
    "r1=np.random.normal(1,1,(3000))\n",
    "r2=np.random.normal(-1,1,(1000,3))"
   ]
  },
  {
   "cell_type": "markdown",
   "metadata": {},
   "source": [
    "1) r1과 r2를 행끼리 붙이고 각 열마다 평균을 구해주세요\n",
    "\n",
    "   r1과 r2를 붙이기 위해서는 reshape을 사용해야 합니다"
   ]
  },
  {
   "cell_type": "code",
   "execution_count": null,
   "metadata": {},
   "outputs": [],
   "source": []
  },
  {
   "cell_type": "markdown",
   "metadata": {},
   "source": [
    "2) r1와 r2를 열끼리 붙이고 각 행마다 표준편차를 구해주세요\n",
    "\n",
    "   r1과 r2를 붙이기 위해서는 reshape을 사용해야 합니다"
   ]
  },
  {
   "cell_type": "code",
   "execution_count": null,
   "metadata": {},
   "outputs": [],
   "source": []
  },
  {
   "cell_type": "markdown",
   "metadata": {},
   "source": [
    "### 실습 3. pandas"
   ]
  },
  {
   "cell_type": "code",
   "execution_count": 29,
   "metadata": {},
   "outputs": [],
   "source": [
    "import pandas as pd"
   ]
  },
  {
   "cell_type": "markdown",
   "metadata": {},
   "source": [
    "실습 2에서 만든 값들을 사용하겠습니다\n",
    "\n",
    "실습 2-1)와 같이 r1과 r2를 행끼리 붙이고 DataFrame으로 만들려합니다\n",
    "\n",
    "DataFrame의 column 이름이 각각 'a', 'b', 'c'가 되도록 만들어주세요\n",
    "\n",
    "출력 예시 ) \n",
    "\n",
    "![Vae](https://i.imgur.com/fi1jC2e.png)"
   ]
  }
 ],
 "metadata": {
  "kernelspec": {
   "display_name": "Python 3",
   "language": "python",
   "name": "python3"
  },
  "language_info": {
   "codemirror_mode": {
    "name": "ipython",
    "version": 3
   },
   "file_extension": ".py",
   "mimetype": "text/x-python",
   "name": "python",
   "nbconvert_exporter": "python",
   "pygments_lexer": "ipython3",
   "version": "3.8.3"
  }
 },
 "nbformat": 4,
 "nbformat_minor": 4
}
