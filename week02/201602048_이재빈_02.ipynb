{
 "cells": [
  {
   "cell_type": "markdown",
   "metadata": {},
   "source": [
    "### 실습 1. Python"
   ]
  },
  {
   "cell_type": "markdown",
   "metadata": {},
   "source": [
    "하나는 초등학교에 입학하고 영어를 배웠습니다\n",
    "\n",
    "배운 영어를 사용하여 단어들을 썼는데, 문득 다른 방법으로 읽고 싶어졌습니다\n",
    "\n",
    "그래서 가로로 읽는 것이 아니라 세로로 읽어보려고 합니다.\n",
    "\n",
    "파이썬을 사용하여, 아래 순서에 따라 하나가 읽는 알파벳을 순서대로 작성되게 해주세요\n",
    "\n",
    "1. 첫 입력으로써, 하나가 쓴 단어가 몇 개 존재하는지 저장한다\n",
    "\n",
    "2. 첫 입력때 받은 수만큼 입력을 받아 단어들을 각각 저장한다\n",
    "\n",
    "3. 각각 저장된 단어 빠른 순서를 먼저 입력된 단어부터 출력되게 만든다\n",
    "\n",
    "아래는 입력과 출력의 예시입니다"
   ]
  },
  {
   "cell_type": "markdown",
   "metadata": {},
   "source": [
    "입력 예시 )\n",
    "![Vua](https://i.imgur.com/GR2YsBV.png)"
   ]
  },
  {
   "cell_type": "markdown",
   "metadata": {},
   "source": [
    "출력 예시 )\n",
    "![Vae](https://i.imgur.com/3F7uZJ5.png)"
   ]
  },
  {
   "cell_type": "markdown",
   "metadata": {},
   "source": [
    "Python에서 사용자 입력 함수는 input으로 사용가능합니다\n",
    "\n",
    "이하 셀에 입력과 출력이 예시와 같이 이뤄지도록 작성해주세요"
   ]
  },
  {
   "cell_type": "code",
   "execution_count": 2,
   "metadata": {},
   "outputs": [
    {
     "name": "stdout",
     "output_type": "stream",
     "text": [
      "입력 받을 단어의 수를 정해주세요 : 1\n",
      "입력 1 : da\n",
      "입력받은 단어들을 세로 순서로 출력하면 da입니다\n"
     ]
    }
   ],
   "source": [
    "number = int(input(\"입력 받을 단어의 수를 정해주세요 : \"))\n",
    "insert = []\n",
    "length = []\n",
    "bb = []\n",
    "i = 1\n",
    "end = 0\n",
    "while i <= number:\n",
    "    word = input(\"입력 {} : \".format(i))\n",
    "    sp = list(word)\n",
    "    bb.append(sp)\n",
    "    length.append(len(word))\n",
    "    if end < len(word):\n",
    "        end = len(word)\n",
    "    i+=1\n",
    "\n",
    "i = 0\n",
    "answer =\"\"\n",
    "while i < end:\n",
    "    for j in range(0,number):\n",
    "        if i < length[j]:\n",
    "            answer+=bb[j][i]\n",
    "    i+=1        \n",
    "    \n",
    "print(\"입력받은 단어들을 세로 순서로 출력하면 {}입니다\".format(answer))\n"
   ]
  },
  {
   "cell_type": "markdown",
   "metadata": {},
   "source": [
    "### 실습 2. Numpy"
   ]
  },
  {
   "cell_type": "code",
   "execution_count": 5,
   "metadata": {},
   "outputs": [],
   "source": [
    "import numpy as np\n",
    "\n",
    "r1=np.random.normal(1,1,(3000))\n",
    "r2=np.random.normal(-1,1,(1000,3))"
   ]
  },
  {
   "cell_type": "markdown",
   "metadata": {},
   "source": [
    "1) r1과 r2를 행끼리 붙이고 각 열마다 평균을 구해주세요\n",
    "\n",
    "   r1과 r2를 붙이기 위해서는 reshape을 사용해야 합니다"
   ]
  },
  {
   "cell_type": "code",
   "execution_count": 14,
   "metadata": {},
   "outputs": [
    {
     "name": "stdout",
     "output_type": "stream",
     "text": [
      "[ 0.0300323   0.05699618 -0.01588313]\n"
     ]
    },
    {
     "data": {
      "text/plain": [
       "(3,)"
      ]
     },
     "execution_count": 14,
     "metadata": {},
     "output_type": "execute_result"
    }
   ],
   "source": [
    "r1 = np.array(r1).reshape((1000,3))\n",
    "r3 = np.vstack((r1,r2))\n",
    "s = np.sum(r3, axis=0)\n",
    "print(np.divide(s,1000))\n",
    "s.shape\n"
   ]
  },
  {
   "cell_type": "markdown",
   "metadata": {},
   "source": [
    "2) r1와 r2를 열끼리 붙이고 각 행마다 표준편차를 구해주세요\n",
    "\n",
    "   r1과 r2를 붙이기 위해서는 reshape을 사용해야 합니다"
   ]
  },
  {
   "cell_type": "code",
   "execution_count": 4,
   "metadata": {},
   "outputs": [
    {
     "name": "stdout",
     "output_type": "stream",
     "text": [
      "[1.01239035 0.98812251 1.01857147 1.03977229 0.9967185  1.02027352]\n"
     ]
    }
   ],
   "source": [
    "r1 = np.array(r1).reshape((1000,3))\n",
    "r3 = np.hstack((r1,r2))\n",
    "s = r3.std(axis=0)\n",
    "print(s)\n"
   ]
  },
  {
   "cell_type": "markdown",
   "metadata": {},
   "source": [
    "### 실습 3. pandas"
   ]
  },
  {
   "cell_type": "code",
   "execution_count": 5,
   "metadata": {},
   "outputs": [],
   "source": [
    "import pandas as pd"
   ]
  },
  {
   "cell_type": "markdown",
   "metadata": {},
   "source": [
    "실습 2에서 만든 값들을 사용하겠습니다\n",
    "\n",
    "실습 2-1)와 같이 r1과 r2를 행끼리 붙이고 DataFrame으로 만들려합니다\n",
    "\n",
    "DataFrame의 column 이름이 각각 'a', 'b', 'c'가 되도록 만들어주세요\n",
    "\n",
    "출력 예시 ) \n",
    "\n",
    "![Vae](https://i.imgur.com/fi1jC2e.png)"
   ]
  },
  {
   "cell_type": "code",
   "execution_count": 9,
   "metadata": {},
   "outputs": [
    {
     "data": {
      "text/html": [
       "<div>\n",
       "<style scoped>\n",
       "    .dataframe tbody tr th:only-of-type {\n",
       "        vertical-align: middle;\n",
       "    }\n",
       "\n",
       "    .dataframe tbody tr th {\n",
       "        vertical-align: top;\n",
       "    }\n",
       "\n",
       "    .dataframe thead th {\n",
       "        text-align: right;\n",
       "    }\n",
       "</style>\n",
       "<table border=\"1\" class=\"dataframe\">\n",
       "  <thead>\n",
       "    <tr style=\"text-align: right;\">\n",
       "      <th></th>\n",
       "      <th>a</th>\n",
       "      <th>b</th>\n",
       "      <th>c</th>\n",
       "    </tr>\n",
       "  </thead>\n",
       "  <tbody>\n",
       "    <tr>\n",
       "      <th>0</th>\n",
       "      <td>0.636982</td>\n",
       "      <td>1.686426</td>\n",
       "      <td>1.465863</td>\n",
       "    </tr>\n",
       "    <tr>\n",
       "      <th>1</th>\n",
       "      <td>-0.783197</td>\n",
       "      <td>0.060590</td>\n",
       "      <td>1.878598</td>\n",
       "    </tr>\n",
       "    <tr>\n",
       "      <th>2</th>\n",
       "      <td>1.704055</td>\n",
       "      <td>0.648502</td>\n",
       "      <td>-0.303492</td>\n",
       "    </tr>\n",
       "    <tr>\n",
       "      <th>3</th>\n",
       "      <td>1.278433</td>\n",
       "      <td>0.522446</td>\n",
       "      <td>0.797507</td>\n",
       "    </tr>\n",
       "    <tr>\n",
       "      <th>4</th>\n",
       "      <td>0.393563</td>\n",
       "      <td>0.843826</td>\n",
       "      <td>1.203860</td>\n",
       "    </tr>\n",
       "    <tr>\n",
       "      <th>...</th>\n",
       "      <td>...</td>\n",
       "      <td>...</td>\n",
       "      <td>...</td>\n",
       "    </tr>\n",
       "    <tr>\n",
       "      <th>1995</th>\n",
       "      <td>-0.261959</td>\n",
       "      <td>-1.392602</td>\n",
       "      <td>0.184282</td>\n",
       "    </tr>\n",
       "    <tr>\n",
       "      <th>1996</th>\n",
       "      <td>-1.919933</td>\n",
       "      <td>-0.783625</td>\n",
       "      <td>-0.437948</td>\n",
       "    </tr>\n",
       "    <tr>\n",
       "      <th>1997</th>\n",
       "      <td>-0.074608</td>\n",
       "      <td>-0.445974</td>\n",
       "      <td>-2.449977</td>\n",
       "    </tr>\n",
       "    <tr>\n",
       "      <th>1998</th>\n",
       "      <td>0.538112</td>\n",
       "      <td>-1.833095</td>\n",
       "      <td>-1.087879</td>\n",
       "    </tr>\n",
       "    <tr>\n",
       "      <th>1999</th>\n",
       "      <td>-1.085116</td>\n",
       "      <td>-0.068122</td>\n",
       "      <td>-1.390084</td>\n",
       "    </tr>\n",
       "  </tbody>\n",
       "</table>\n",
       "<p>2000 rows × 3 columns</p>\n",
       "</div>"
      ],
      "text/plain": [
       "             a         b         c\n",
       "0     0.636982  1.686426  1.465863\n",
       "1    -0.783197  0.060590  1.878598\n",
       "2     1.704055  0.648502 -0.303492\n",
       "3     1.278433  0.522446  0.797507\n",
       "4     0.393563  0.843826  1.203860\n",
       "...        ...       ...       ...\n",
       "1995 -0.261959 -1.392602  0.184282\n",
       "1996 -1.919933 -0.783625 -0.437948\n",
       "1997 -0.074608 -0.445974 -2.449977\n",
       "1998  0.538112 -1.833095 -1.087879\n",
       "1999 -1.085116 -0.068122 -1.390084\n",
       "\n",
       "[2000 rows x 3 columns]"
      ]
     },
     "execution_count": 9,
     "metadata": {},
     "output_type": "execute_result"
    }
   ],
   "source": [
    "df_ex = pd.DataFrame(r3, columns = ['a', 'b', 'c'])\n",
    "df_ex"
   ]
  },
  {
   "cell_type": "code",
   "execution_count": null,
   "metadata": {},
   "outputs": [],
   "source": []
  }
 ],
 "metadata": {
  "kernelspec": {
   "display_name": "Python 3",
   "language": "python",
   "name": "python3"
  },
  "language_info": {
   "codemirror_mode": {
    "name": "ipython",
    "version": 3
   },
   "file_extension": ".py",
   "mimetype": "text/x-python",
   "name": "python",
   "nbconvert_exporter": "python",
   "pygments_lexer": "ipython3",
   "version": "3.8.3"
  }
 },
 "nbformat": 4,
 "nbformat_minor": 4
}
