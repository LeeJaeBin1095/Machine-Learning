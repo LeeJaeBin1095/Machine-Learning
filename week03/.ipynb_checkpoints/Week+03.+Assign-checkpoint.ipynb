{
 "cells": [
  {
   "cell_type": "markdown",
   "metadata": {},
   "source": [
    "# Week 03. Naive Bayes Classfier\n",
    "\n",
    "과제는 총 5개의 cell을 채워주셔야합니다\n",
    "\n",
    "1~4 문제는 영상과 실습자료에 나와있는 것들을 적절히 응용하시면 됩니다\n",
    "\n",
    "마지막 5번의 경우 본인의 생각을 마크다운으로 작성하는 부분입니다\n",
    "\n",
    "주석의 경우 이미지, 테이블 등의 표현이 어려운 관계로 받지 않겠습니다"
   ]
  },
  {
   "cell_type": "markdown",
   "metadata": {},
   "source": [
    "### 실습 00. Load dataset"
   ]
  },
  {
   "cell_type": "markdown",
   "metadata": {},
   "source": [
    "과제를 수행하기 위해 과제파일과 함께 breast data, target을 다운받아 불러옵니다\n",
    "\n",
    "불러온 dataset은 Wisconsin에서 수집된 breast cancer dataset입니다\n",
    "\n",
    "target이 0인 경우 negative이고, 1인경우 positive를 의미합니다\n",
    "\n",
    "해당 데이터셋은 machine learning dataset repository중 하나인 UCI repository에 등록되어있습니다\n",
    "\n",
    "Raw dataset을 가공하여 csv로 저장하였기 때문에 pandas로 불러올 수 있습니다"
   ]
  },
  {
   "cell_type": "code",
   "execution_count": 27,
   "metadata": {},
   "outputs": [],
   "source": [
    "import pandas as pd\n",
    "import os \n",
    "import numpy as np"
   ]
  },
  {
   "cell_type": "code",
   "execution_count": 28,
   "metadata": {},
   "outputs": [],
   "source": [
    "data_path = \"C:\\\\ML\\\\week03\\\\breast-data.csv\"\n",
    "target_path = \"C:\\\\ML\\\\week03\\\\breast-target.csv\""
   ]
  },
  {
   "cell_type": "code",
   "execution_count": 29,
   "metadata": {},
   "outputs": [
    {
     "data": {
      "text/html": [
       "<div>\n",
       "<style scoped>\n",
       "    .dataframe tbody tr th:only-of-type {\n",
       "        vertical-align: middle;\n",
       "    }\n",
       "\n",
       "    .dataframe tbody tr th {\n",
       "        vertical-align: top;\n",
       "    }\n",
       "\n",
       "    .dataframe thead th {\n",
       "        text-align: right;\n",
       "    }\n",
       "</style>\n",
       "<table border=\"1\" class=\"dataframe\">\n",
       "  <thead>\n",
       "    <tr style=\"text-align: right;\">\n",
       "      <th></th>\n",
       "      <th>1</th>\n",
       "      <th>2</th>\n",
       "      <th>3</th>\n",
       "      <th>4</th>\n",
       "      <th>5</th>\n",
       "      <th>6</th>\n",
       "      <th>7</th>\n",
       "      <th>8</th>\n",
       "      <th>9</th>\n",
       "    </tr>\n",
       "  </thead>\n",
       "  <tbody>\n",
       "    <tr>\n",
       "      <th>0</th>\n",
       "      <td>5</td>\n",
       "      <td>1</td>\n",
       "      <td>1</td>\n",
       "      <td>1</td>\n",
       "      <td>2</td>\n",
       "      <td>1</td>\n",
       "      <td>3</td>\n",
       "      <td>1</td>\n",
       "      <td>1</td>\n",
       "    </tr>\n",
       "    <tr>\n",
       "      <th>1</th>\n",
       "      <td>5</td>\n",
       "      <td>4</td>\n",
       "      <td>4</td>\n",
       "      <td>5</td>\n",
       "      <td>7</td>\n",
       "      <td>10</td>\n",
       "      <td>3</td>\n",
       "      <td>2</td>\n",
       "      <td>1</td>\n",
       "    </tr>\n",
       "    <tr>\n",
       "      <th>2</th>\n",
       "      <td>3</td>\n",
       "      <td>1</td>\n",
       "      <td>1</td>\n",
       "      <td>1</td>\n",
       "      <td>2</td>\n",
       "      <td>2</td>\n",
       "      <td>3</td>\n",
       "      <td>1</td>\n",
       "      <td>1</td>\n",
       "    </tr>\n",
       "    <tr>\n",
       "      <th>3</th>\n",
       "      <td>6</td>\n",
       "      <td>8</td>\n",
       "      <td>8</td>\n",
       "      <td>1</td>\n",
       "      <td>3</td>\n",
       "      <td>4</td>\n",
       "      <td>3</td>\n",
       "      <td>7</td>\n",
       "      <td>1</td>\n",
       "    </tr>\n",
       "    <tr>\n",
       "      <th>4</th>\n",
       "      <td>4</td>\n",
       "      <td>1</td>\n",
       "      <td>1</td>\n",
       "      <td>3</td>\n",
       "      <td>2</td>\n",
       "      <td>1</td>\n",
       "      <td>3</td>\n",
       "      <td>1</td>\n",
       "      <td>1</td>\n",
       "    </tr>\n",
       "  </tbody>\n",
       "</table>\n",
       "</div>"
      ],
      "text/plain": [
       "   1  2  3  4  5   6  7  8  9\n",
       "0  5  1  1  1  2   1  3  1  1\n",
       "1  5  4  4  5  7  10  3  2  1\n",
       "2  3  1  1  1  2   2  3  1  1\n",
       "3  6  8  8  1  3   4  3  7  1\n",
       "4  4  1  1  3  2   1  3  1  1"
      ]
     },
     "execution_count": 29,
     "metadata": {},
     "output_type": "execute_result"
    }
   ],
   "source": [
    "data=pd.read_csv(data_path)\n",
    "target=pd.read_csv(target_path)\n",
    "data.head()"
   ]
  },
  {
   "cell_type": "markdown",
   "metadata": {},
   "source": [
    "### 실습 01. Pandas & numpy 사용하기"
   ]
  },
  {
   "cell_type": "markdown",
   "metadata": {},
   "source": [
    "데이터들을 불러오고 형태를 확인해주세요\n",
    "\n",
    "DataFrame.shape으로 확인할 수 있습니다\n",
    "\n",
    "이후, 변수의 갯수와 변수 별 평균, 표준편차를 출력해주세요\n",
    "\n",
    "출력 양식은 자유롭게 작성하시되, 반드시 위의 요구사항을 만족하여야합니다"
   ]
  },
  {
   "cell_type": "code",
   "execution_count": 30,
   "metadata": {},
   "outputs": [
    {
     "data": {
      "text/plain": [
       "(683, 9)"
      ]
     },
     "execution_count": 30,
     "metadata": {},
     "output_type": "execute_result"
    }
   ],
   "source": [
    "df = pd.DataFrame(data)\n",
    "df.shape"
   ]
  },
  {
   "cell_type": "code",
   "execution_count": 31,
   "metadata": {},
   "outputs": [
    {
     "name": "stdout",
     "output_type": "stream",
     "text": [
      "변수의 갯수 : 9\n"
     ]
    }
   ],
   "source": [
    "col = len(df.columns)\n",
    "print(\"변수의 갯수 : {}\".format(col))"
   ]
  },
  {
   "cell_type": "code",
   "execution_count": 32,
   "metadata": {},
   "outputs": [
    {
     "data": {
      "text/html": [
       "<div>\n",
       "<style scoped>\n",
       "    .dataframe tbody tr th:only-of-type {\n",
       "        vertical-align: middle;\n",
       "    }\n",
       "\n",
       "    .dataframe tbody tr th {\n",
       "        vertical-align: top;\n",
       "    }\n",
       "\n",
       "    .dataframe thead th {\n",
       "        text-align: right;\n",
       "    }\n",
       "</style>\n",
       "<table border=\"1\" class=\"dataframe\">\n",
       "  <thead>\n",
       "    <tr style=\"text-align: right;\">\n",
       "      <th></th>\n",
       "      <th>변수의 평균</th>\n",
       "      <th>변수의 표준편차</th>\n",
       "    </tr>\n",
       "  </thead>\n",
       "  <tbody>\n",
       "    <tr>\n",
       "      <th>0</th>\n",
       "      <td>4.442167</td>\n",
       "      <td>2.820761</td>\n",
       "    </tr>\n",
       "    <tr>\n",
       "      <th>1</th>\n",
       "      <td>3.150805</td>\n",
       "      <td>3.065145</td>\n",
       "    </tr>\n",
       "    <tr>\n",
       "      <th>2</th>\n",
       "      <td>3.215227</td>\n",
       "      <td>2.988581</td>\n",
       "    </tr>\n",
       "    <tr>\n",
       "      <th>3</th>\n",
       "      <td>2.830161</td>\n",
       "      <td>2.864562</td>\n",
       "    </tr>\n",
       "    <tr>\n",
       "      <th>4</th>\n",
       "      <td>3.234261</td>\n",
       "      <td>2.223085</td>\n",
       "    </tr>\n",
       "    <tr>\n",
       "      <th>5</th>\n",
       "      <td>3.544656</td>\n",
       "      <td>3.643857</td>\n",
       "    </tr>\n",
       "    <tr>\n",
       "      <th>6</th>\n",
       "      <td>3.445095</td>\n",
       "      <td>2.449697</td>\n",
       "    </tr>\n",
       "    <tr>\n",
       "      <th>7</th>\n",
       "      <td>2.869693</td>\n",
       "      <td>3.052666</td>\n",
       "    </tr>\n",
       "    <tr>\n",
       "      <th>8</th>\n",
       "      <td>1.603221</td>\n",
       "      <td>1.732674</td>\n",
       "    </tr>\n",
       "  </tbody>\n",
       "</table>\n",
       "</div>"
      ],
      "text/plain": [
       "     변수의 평균  변수의 표준편차\n",
       "0  4.442167  2.820761\n",
       "1  3.150805  3.065145\n",
       "2  3.215227  2.988581\n",
       "3  2.830161  2.864562\n",
       "4  3.234261  2.223085\n",
       "5  3.544656  3.643857\n",
       "6  3.445095  2.449697\n",
       "7  2.869693  3.052666\n",
       "8  1.603221  1.732674"
      ]
     },
     "execution_count": 32,
     "metadata": {},
     "output_type": "execute_result"
    }
   ],
   "source": [
    "df1 = pd.DataFrame(df.mean())\n",
    "df2 = pd.DataFrame(df.std())\n",
    "df3 = np.hstack((df1,df2))\n",
    "su = pd.DataFrame(df3, columns=[\"변수의 평균\",\"변수의 표준편차\"])\n",
    "su"
   ]
  },
  {
   "cell_type": "markdown",
   "metadata": {},
   "source": [
    "### 실습 02. Gaussian Naive Bayes Classifier"
   ]
  },
  {
   "cell_type": "markdown",
   "metadata": {},
   "source": [
    "Scikit-learn package의 classifier를 불러오겠습니다"
   ]
  },
  {
   "cell_type": "code",
   "execution_count": 33,
   "metadata": {},
   "outputs": [],
   "source": [
    "from sklearn.naive_bayes import GaussianNB"
   ]
  },
  {
   "cell_type": "markdown",
   "metadata": {},
   "source": [
    "불러온 class를 적절한 오브젝트에 저장하고, breast data의 prior를 계산하여 입력해주세요\n",
    "\n",
    "그리고 학습된 모델의 정확도를 출력해주세요"
   ]
  },
  {
   "cell_type": "code",
   "execution_count": 34,
   "metadata": {},
   "outputs": [
    {
     "name": "stdout",
     "output_type": "stream",
     "text": [
      "학습된 모델의 정확도 : 96.04685212298682\n"
     ]
    }
   ],
   "source": [
    "target = target.iloc[:,-1]\n",
    "model=GaussianNB(priors=[0.9, 0.1])\n",
    "model.fit(data, target)\n",
    "\n",
    "ac = (model.predict(data)==target.values).mean()*100\n",
    "print(\"학습된 모델의 정확도 : {}\".format(ac))\n"
   ]
  },
  {
   "cell_type": "markdown",
   "metadata": {},
   "source": [
    "### 실습 03. Prior 조절 및 결과 비교하기"
   ]
  },
  {
   "cell_type": "markdown",
   "metadata": {},
   "source": [
    "실습 2에서 확인한 것과 같이 breast cancer dataset의 prior 비율은 1:1이 아닙니다\n",
    "\n",
    "prior를 1:1로 조절한 후 조절하기 전과 비교해주세요\n",
    "\n"
   ]
  },
  {
   "cell_type": "code",
   "execution_count": 11,
   "metadata": {},
   "outputs": [
    {
     "name": "stdout",
     "output_type": "stream",
     "text": [
      "prior를 입력하지 않은 경우의 정확도 : 96.05%\n",
      "prior를 입력하지 않은 경우 1이라고 예측한 횟수 : 252\n",
      "\n",
      "prior를 입력한  경우의 정확도 : 96.34%\n",
      "prior를 입력한 경우 1이라고 예측한 횟수 : 254\n"
     ]
    }
   ],
   "source": [
    "equal_model=GaussianNB(priors=[0.5, 0.5])\n",
    "equal_model.fit(data, target)\n",
    "print(f'prior를 입력하지 않은 경우의 정확도 : {(model.predict(data)==target.values).mean()*100:.4}%')\n",
    "print(f'prior를 입력하지 않은 경우 1이라고 예측한 횟수 : {(model.predict(data)).sum()}\\n')\n",
    "print(f'prior를 입력한  경우의 정확도 : {(equal_model.predict(data)==target.values).mean()*100:.4}%')\n",
    "print(f'prior를 입력한 경우 1이라고 예측한 횟수 : {(equal_model.predict(data)).sum()}')"
   ]
  },
  {
   "cell_type": "markdown",
   "metadata": {},
   "source": [
    "위과 같이 prior에 따라 결과를 얻게된 이유를 **마크다운**으로 아래 서술해주세요\n",
    "\n",
    "본인의 생각을 자유롭게 작성해주시면 됩니다\n",
    "\n",
    "아래쪽에 cell을 추가하는 방법은 이 cell의 왼쪽 여백을 클릭하여 파란색 테두리로 강조되는 것을 확인한 후, \n",
    "\n",
    "b키를 누르면 아래쪽에 cell이 생성됩니다\n",
    "\n",
    "아래쪽 cell의 왼쪽 여백을 클릭하여 파란색 테두리 상태일 때 m키를 누르면 markdown으로 작성할 수 있습니다"
   ]
  },
  {
   "cell_type": "markdown",
   "metadata": {},
   "source": [
    "prior를 입력한 경우의 예측한 횟수가 더 높다. 이유는 0.9:0.1처럼 class별 빈도수의 차이가 크게 나지 않고 똑같기 때문에 나타난 결과로 생각됩니다.   \n",
    "실습 영상에서는 prior를 입력하지 않은 경우 예측한 횟수가 0인데 반면에 여기서는  \n",
    "입력한 결과와 차이가 매우 적고 정확도도 큰차이가 없는 것으로 나오는데 실습 강의영상과는 다르게 변수의 갯수가 더 많고 데이터의 수가 현저히 적기때문에  \n",
    "나타난 결과라고 생각이 듭니다.  "
   ]
  }
 ],
 "metadata": {
  "kernelspec": {
   "display_name": "Python 3",
   "language": "python",
   "name": "python3"
  },
  "language_info": {
   "codemirror_mode": {
    "name": "ipython",
    "version": 3
   },
   "file_extension": ".py",
   "mimetype": "text/x-python",
   "name": "python",
   "nbconvert_exporter": "python",
   "pygments_lexer": "ipython3",
   "version": "3.8.3"
  }
 },
 "nbformat": 4,
 "nbformat_minor": 4
}
