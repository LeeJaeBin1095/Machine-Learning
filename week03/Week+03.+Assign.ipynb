{
 "cells": [
  {
   "cell_type": "markdown",
   "metadata": {},
   "source": [
    "# Week 03. Naive Bayes Classfier\n",
    "\n",
    "과제는 총 5개의 cell을 채워주셔야합니다\n",
    "\n",
    "1~4 문제는 영상과 실습자료에 나와있는 것들을 적절히 응용하시면 됩니다\n",
    "\n",
    "마지막 5번의 경우 본인의 생각을 마크다운으로 작성하는 부분입니다\n",
    "\n",
    "주석의 경우 이미지, 테이블 등의 표현이 어려운 관계로 받지 않겠습니다"
   ]
  },
  {
   "cell_type": "markdown",
   "metadata": {},
   "source": [
    "### 실습 00. Load dataset"
   ]
  },
  {
   "cell_type": "markdown",
   "metadata": {},
   "source": [
    "과제를 수행하기 위해 과제파일과 함께 breast data, target을 다운받아 불러옵니다\n",
    "\n",
    "불러온 dataset은 Wisconsin에서 수집된 breast cancer dataset입니다\n",
    "\n",
    "target이 0인 경우 negative이고, 1인경우 positive를 의미합니다\n",
    "\n",
    "해당 데이터셋은 machine learning dataset repository중 하나인 UCI repository에 등록되어있습니다\n",
    "\n",
    "Raw dataset을 가공하여 csv로 저장하였기 때문에 pandas로 불러올 수 있습니다"
   ]
  },
  {
   "cell_type": "code",
   "execution_count": 2,
   "metadata": {},
   "outputs": [],
   "source": [
    "import pandas as pd\n",
    "import os \n",
    "import numpy as np"
   ]
  },
  {
   "cell_type": "code",
   "execution_count": 3,
   "metadata": {},
   "outputs": [],
   "source": [
    "data_path = \"C:\\\\ML\\\\week03\\\\breast-data.csv\"\n",
    "target_path = \"C:\\\\ML\\\\week03\\\\breast-target.csv\""
   ]
  },
  {
   "cell_type": "code",
   "execution_count": 4,
   "metadata": {},
   "outputs": [
    {
     "data": {
      "text/html": [
       "<div>\n",
       "<style scoped>\n",
       "    .dataframe tbody tr th:only-of-type {\n",
       "        vertical-align: middle;\n",
       "    }\n",
       "\n",
       "    .dataframe tbody tr th {\n",
       "        vertical-align: top;\n",
       "    }\n",
       "\n",
       "    .dataframe thead th {\n",
       "        text-align: right;\n",
       "    }\n",
       "</style>\n",
       "<table border=\"1\" class=\"dataframe\">\n",
       "  <thead>\n",
       "    <tr style=\"text-align: right;\">\n",
       "      <th></th>\n",
       "      <th>1</th>\n",
       "      <th>2</th>\n",
       "      <th>3</th>\n",
       "      <th>4</th>\n",
       "      <th>5</th>\n",
       "      <th>6</th>\n",
       "      <th>7</th>\n",
       "      <th>8</th>\n",
       "      <th>9</th>\n",
       "    </tr>\n",
       "  </thead>\n",
       "  <tbody>\n",
       "    <tr>\n",
       "      <th>0</th>\n",
       "      <td>5</td>\n",
       "      <td>1</td>\n",
       "      <td>1</td>\n",
       "      <td>1</td>\n",
       "      <td>2</td>\n",
       "      <td>1</td>\n",
       "      <td>3</td>\n",
       "      <td>1</td>\n",
       "      <td>1</td>\n",
       "    </tr>\n",
       "    <tr>\n",
       "      <th>1</th>\n",
       "      <td>5</td>\n",
       "      <td>4</td>\n",
       "      <td>4</td>\n",
       "      <td>5</td>\n",
       "      <td>7</td>\n",
       "      <td>10</td>\n",
       "      <td>3</td>\n",
       "      <td>2</td>\n",
       "      <td>1</td>\n",
       "    </tr>\n",
       "    <tr>\n",
       "      <th>2</th>\n",
       "      <td>3</td>\n",
       "      <td>1</td>\n",
       "      <td>1</td>\n",
       "      <td>1</td>\n",
       "      <td>2</td>\n",
       "      <td>2</td>\n",
       "      <td>3</td>\n",
       "      <td>1</td>\n",
       "      <td>1</td>\n",
       "    </tr>\n",
       "    <tr>\n",
       "      <th>3</th>\n",
       "      <td>6</td>\n",
       "      <td>8</td>\n",
       "      <td>8</td>\n",
       "      <td>1</td>\n",
       "      <td>3</td>\n",
       "      <td>4</td>\n",
       "      <td>3</td>\n",
       "      <td>7</td>\n",
       "      <td>1</td>\n",
       "    </tr>\n",
       "    <tr>\n",
       "      <th>4</th>\n",
       "      <td>4</td>\n",
       "      <td>1</td>\n",
       "      <td>1</td>\n",
       "      <td>3</td>\n",
       "      <td>2</td>\n",
       "      <td>1</td>\n",
       "      <td>3</td>\n",
       "      <td>1</td>\n",
       "      <td>1</td>\n",
       "    </tr>\n",
       "  </tbody>\n",
       "</table>\n",
       "</div>"
      ],
      "text/plain": [
       "   1  2  3  4  5   6  7  8  9\n",
       "0  5  1  1  1  2   1  3  1  1\n",
       "1  5  4  4  5  7  10  3  2  1\n",
       "2  3  1  1  1  2   2  3  1  1\n",
       "3  6  8  8  1  3   4  3  7  1\n",
       "4  4  1  1  3  2   1  3  1  1"
      ]
     },
     "execution_count": 4,
     "metadata": {},
     "output_type": "execute_result"
    }
   ],
   "source": [
    "data=pd.read_csv(data_path)\n",
    "target=pd.read_csv(target_path)\n",
    "data.head()"
   ]
  },
  {
   "cell_type": "markdown",
   "metadata": {},
   "source": [
    "### 실습 01. Pandas & numpy 사용하기"
   ]
  },
  {
   "cell_type": "markdown",
   "metadata": {},
   "source": [
    "데이터들을 불러오고 형태를 확인해주세요\n",
    "\n",
    "DataFrame.shape으로 확인할 수 있습니다\n",
    "\n",
    "이후, 변수의 갯수와 변수 별 평균, 표준편차를 출력해주세요\n",
    "\n",
    "출력 양식은 자유롭게 작성하시되, 반드시 위의 요구사항을 만족하여야합니다"
   ]
  },
  {
   "cell_type": "code",
   "execution_count": 5,
   "metadata": {},
   "outputs": [
    {
     "data": {
      "text/plain": [
       "(683, 9)"
      ]
     },
     "execution_count": 5,
     "metadata": {},
     "output_type": "execute_result"
    }
   ],
   "source": [
    "df = pd.DataFrame(data)\n",
    "df.shape"
   ]
  },
  {
   "cell_type": "code",
   "execution_count": 6,
   "metadata": {},
   "outputs": [
    {
     "name": "stdout",
     "output_type": "stream",
     "text": [
      "변수의 갯수 : 9\n"
     ]
    }
   ],
   "source": [
    "col = len(df.columns)\n",
    "print(\"변수의 갯수 : {}\".format(col))"
   ]
  },
  {
   "cell_type": "code",
   "execution_count": 7,
   "metadata": {},
   "outputs": [
    {
     "data": {
      "text/html": [
       "<div>\n",
       "<style scoped>\n",
       "    .dataframe tbody tr th:only-of-type {\n",
       "        vertical-align: middle;\n",
       "    }\n",
       "\n",
       "    .dataframe tbody tr th {\n",
       "        vertical-align: top;\n",
       "    }\n",
       "\n",
       "    .dataframe thead th {\n",
       "        text-align: right;\n",
       "    }\n",
       "</style>\n",
       "<table border=\"1\" class=\"dataframe\">\n",
       "  <thead>\n",
       "    <tr style=\"text-align: right;\">\n",
       "      <th></th>\n",
       "      <th>변수의 평균</th>\n",
       "      <th>변수의 표준편차</th>\n",
       "    </tr>\n",
       "  </thead>\n",
       "  <tbody>\n",
       "    <tr>\n",
       "      <th>0</th>\n",
       "      <td>4.442167</td>\n",
       "      <td>2.820761</td>\n",
       "    </tr>\n",
       "    <tr>\n",
       "      <th>1</th>\n",
       "      <td>3.150805</td>\n",
       "      <td>3.065145</td>\n",
       "    </tr>\n",
       "    <tr>\n",
       "      <th>2</th>\n",
       "      <td>3.215227</td>\n",
       "      <td>2.988581</td>\n",
       "    </tr>\n",
       "    <tr>\n",
       "      <th>3</th>\n",
       "      <td>2.830161</td>\n",
       "      <td>2.864562</td>\n",
       "    </tr>\n",
       "    <tr>\n",
       "      <th>4</th>\n",
       "      <td>3.234261</td>\n",
       "      <td>2.223085</td>\n",
       "    </tr>\n",
       "    <tr>\n",
       "      <th>5</th>\n",
       "      <td>3.544656</td>\n",
       "      <td>3.643857</td>\n",
       "    </tr>\n",
       "    <tr>\n",
       "      <th>6</th>\n",
       "      <td>3.445095</td>\n",
       "      <td>2.449697</td>\n",
       "    </tr>\n",
       "    <tr>\n",
       "      <th>7</th>\n",
       "      <td>2.869693</td>\n",
       "      <td>3.052666</td>\n",
       "    </tr>\n",
       "    <tr>\n",
       "      <th>8</th>\n",
       "      <td>1.603221</td>\n",
       "      <td>1.732674</td>\n",
       "    </tr>\n",
       "  </tbody>\n",
       "</table>\n",
       "</div>"
      ],
      "text/plain": [
       "     변수의 평균  변수의 표준편차\n",
       "0  4.442167  2.820761\n",
       "1  3.150805  3.065145\n",
       "2  3.215227  2.988581\n",
       "3  2.830161  2.864562\n",
       "4  3.234261  2.223085\n",
       "5  3.544656  3.643857\n",
       "6  3.445095  2.449697\n",
       "7  2.869693  3.052666\n",
       "8  1.603221  1.732674"
      ]
     },
     "execution_count": 7,
     "metadata": {},
     "output_type": "execute_result"
    }
   ],
   "source": [
    "df1 = pd.DataFrame(df.mean())\n",
    "df2 = pd.DataFrame(df.std())\n",
    "df3 = np.hstack((df1,df2))\n",
    "su = pd.DataFrame(df3, columns=[\"변수의 평균\",\"변수의 표준편차\"])\n",
    "su"
   ]
  },
  {
   "cell_type": "markdown",
   "metadata": {},
   "source": [
    "### 실습 02. Gaussian Naive Bayes Classifier"
   ]
  },
  {
   "cell_type": "markdown",
   "metadata": {},
   "source": [
    "Scikit-learn package의 classifier를 불러오겠습니다"
   ]
  },
  {
   "cell_type": "code",
   "execution_count": 8,
   "metadata": {},
   "outputs": [],
   "source": [
    "from sklearn.naive_bayes import GaussianNB"
   ]
  },
  {
   "cell_type": "markdown",
   "metadata": {},
   "source": [
    "불러온 class를 적절한 오브젝트에 저장하고, breast data의 prior를 계산하여 입력해주세요\n",
    "\n",
    "그리고 학습된 모델의 정확도를 출력해주세요"
   ]
  },
  {
   "cell_type": "code",
   "execution_count": 12,
   "metadata": {},
   "outputs": [
    {
     "name": "stdout",
     "output_type": "stream",
     "text": [
      "[0.65007321 0.34992679]\n",
      "정확도 : 96.3397%\n"
     ]
    }
   ],
   "source": [
    "# 조교 영상 \n",
    "prior=np.eye(2)[target.values.reshape(-1)].mean(0)\n",
    "print(prior)\n",
    "model=GaussianNB(priors=prior)\n",
    "model.fit(data,target.values.reshape(-1))\n",
    "\n",
    "print(f'정확도 : {(model.predict(data)==target.values.reshape(-1)).mean()*100:.6}%')"
   ]
  },
  {
   "cell_type": "code",
   "execution_count": 9,
   "metadata": {},
   "outputs": [
    {
     "name": "stdout",
     "output_type": "stream",
     "text": [
      "학습된 모델의 정확도 : 96.04685212298682\n"
     ]
    }
   ],
   "source": [
    "target = target.iloc[:,-1]\n",
    "model=GaussianNB(priors=[0.9, 0.1])\n",
    "model.fit(data, target)\n",
    "\n",
    "ac = (model.predict(data)==target.values).mean()*100\n",
    "print(\"학습된 모델의 정확도 : {}\".format(ac))\n"
   ]
  },
  {
   "cell_type": "markdown",
   "metadata": {},
   "source": [
    "### 실습 03. Prior 조절 및 결과 비교하기"
   ]
  },
  {
   "cell_type": "markdown",
   "metadata": {},
   "source": [
    "실습 2에서 확인한 것과 같이 breast cancer dataset의 prior 비율은 1:1이 아닙니다\n",
    "\n",
    "prior를 1:1로 조절한 후 조절하기 전과 비교해주세요\n",
    "\n"
   ]
  },
  {
   "cell_type": "code",
   "execution_count": 13,
   "metadata": {},
   "outputs": [
    {
     "name": "stdout",
     "output_type": "stream",
     "text": [
      "prior를 입력하지 않은 경우의 정확도 : 96.34%\n",
      "prior를 입력하지 않은 경우 1이라고 예측한 횟수 : 254\n",
      "\n",
      "prior를 입력한  경우의 정확도 : 96.34%\n",
      "prior를 입력한 경우 1이라고 예측한 횟수 : 254\n"
     ]
    }
   ],
   "source": [
    "equal_model=GaussianNB(priors=[0.5, 0.5])\n",
    "equal_model.fit(data, target.values.reshape(-1))\n",
    "print(f'prior를 입력하지 않은 경우의 정확도 : {(model.predict(data)==target.values).mean()*100:.4}%')\n",
    "print(f'prior를 입력하지 않은 경우 1이라고 예측한 횟수 : {(model.predict(data)).sum()}\\n')\n",
    "print(f'prior를 입력한  경우의 정확도 : {(equal_model.predict(data)==target.values).mean()*100:.4}%')\n",
    "print(f'prior를 입력한 경우 1이라고 예측한 횟수 : {(equal_model.predict(data)).sum()}')"
   ]
  },
  {
   "cell_type": "markdown",
   "metadata": {},
   "source": [
    "위과 같이 prior에 따라 결과를 얻게된 이유를 **마크다운**으로 아래 서술해주세요\n",
    "\n",
    "본인의 생각을 자유롭게 작성해주시면 됩니다\n",
    "\n",
    "아래쪽에 cell을 추가하는 방법은 이 cell의 왼쪽 여백을 클릭하여 파란색 테두리로 강조되는 것을 확인한 후, \n",
    "\n",
    "b키를 누르면 아래쪽에 cell이 생성됩니다\n",
    "\n",
    "아래쪽 cell의 왼쪽 여백을 클릭하여 파란색 테두리 상태일 때 m키를 누르면 markdown으로 작성할 수 있습니다"
   ]
  },
  {
   "cell_type": "code",
   "execution_count": 15,
   "metadata": {},
   "outputs": [
    {
     "data": {
      "text/plain": [
       "array([0.65007321, 0.34992679])"
      ]
     },
     "execution_count": 15,
     "metadata": {},
     "output_type": "execute_result"
    }
   ],
   "source": [
    "model.class_prior_"
   ]
  },
  {
   "cell_type": "code",
   "execution_count": 14,
   "metadata": {},
   "outputs": [
    {
     "data": {
      "text/plain": [
       "array([[2.96396396, 1.30630631, 1.41441441, 1.34684685, 2.10810811,\n",
       "        1.34684685, 2.08333333, 1.26126126, 1.06531532],\n",
       "       [7.18828452, 6.57740586, 6.56066946, 5.58577406, 5.32635983,\n",
       "        7.62761506, 5.9748954 , 5.85774059, 2.60251046]])"
      ]
     },
     "execution_count": 14,
     "metadata": {},
     "output_type": "execute_result"
    }
   ],
   "source": [
    "model.theta_"
   ]
  },
  {
   "cell_type": "code",
   "execution_count": 16,
   "metadata": {},
   "outputs": [
    {
     "data": {
      "text/plain": [
       "array([[ 2.79149421,  0.73050078,  0.91384629,  0.83915674,  0.76759193,\n",
       "         1.38420178,  1.12593845,  0.90922004,  0.25924744],\n",
       "       [ 5.91852385,  7.39045186,  6.57267906, 10.17569722,  5.94369848,\n",
       "         9.67304495,  5.18765429, 11.16804679,  6.54911505]])"
      ]
     },
     "execution_count": 16,
     "metadata": {},
     "output_type": "execute_result"
    }
   ],
   "source": [
    "model.sigma_"
   ]
  },
  {
   "cell_type": "markdown",
   "metadata": {},
   "source": [
    "모델의 prior는 0.65대 0.35가 나온다. \n",
    "나이브 베이직 클레스파이어가 가장 중요하게 여기는 2가지 파라미터, 즉 가우시안 함수를 설명하는 2가지 평균과 분산이 있는데 평균과 분산이 큰차이를 보여서 분류하기가 쉬워진다."
   ]
  },
  {
   "cell_type": "code",
   "execution_count": null,
   "metadata": {},
   "outputs": [],
   "source": [
    "그만큼 이미 likelyhood자체가 잘 나눠져 있기때문에 prior가 차이를 발생시켜도 \n",
    "모델을 크게 변화시키지 않았다.\n",
    "prior를 극단적으로 변화시킬경우 (0.001 : 0.999) 정확도가 떨어진다."
   ]
  }
 ],
 "metadata": {
  "kernelspec": {
   "display_name": "Python 3",
   "language": "python",
   "name": "python3"
  },
  "language_info": {
   "codemirror_mode": {
    "name": "ipython",
    "version": 3
   },
   "file_extension": ".py",
   "mimetype": "text/x-python",
   "name": "python",
   "nbconvert_exporter": "python",
   "pygments_lexer": "ipython3",
   "version": "3.8.5"
  }
 },
 "nbformat": 4,
 "nbformat_minor": 4
}
